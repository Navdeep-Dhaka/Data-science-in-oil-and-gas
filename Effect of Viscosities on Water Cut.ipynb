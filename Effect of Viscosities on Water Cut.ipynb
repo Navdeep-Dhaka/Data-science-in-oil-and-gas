{
 "cells": [
  {
   "attachments": {
    "image.png": {
     "image/png": "[encoded data removed]"
    }
   },
   "cell_type": "markdown",
   "metadata": {},
   "source": [
    "![image.png](attachment:image.png)"
   ]
  },
  {
   "cell_type": "code",
   "execution_count": 1,
   "metadata": {},
   "outputs": [],
   "source": [
    "import numpy as np\n",
    "import pandas as pd\n",
    "import matplotlib.pyplot as plt"
   ]
  },
  {
   "cell_type": "code",
   "execution_count": 2,
   "metadata": {},
   "outputs": [],
   "source": [
    "Sw = [0.25,0.3,0.35,0.4,0.45,0.50,0.55,0.6,0.65,0.7,0.75]\n",
    "Kro_Krw = [30.23,17,9.56,5.38,3.02,1.7,0.96,0.54,0.3,0.17,0.1]"
   ]
  },
  {
   "cell_type": "code",
   "execution_count": 3,
   "metadata": {},
   "outputs": [
    {
     "data": {
      "text/html": [
       "<div>\n",
       "<style scoped>\n",
       "    .dataframe tbody tr th:only-of-type {\n",
       "        vertical-align: middle;\n",
       "    }\n",
       "\n",
       "    .dataframe tbody tr th {\n",
       "        vertical-align: top;\n",
       "    }\n",
       "\n",
       "    .dataframe thead th {\n",
       "        text-align: right;\n",
       "    }\n",
       "</style>\n",
       "<table border=\"1\" class=\"dataframe\">\n",
       "  <thead>\n",
       "    <tr style=\"text-align: right;\">\n",
       "      <th></th>\n",
       "      <th>Sw</th>\n",
       "      <th>Kro/Krw</th>\n",
       "    </tr>\n",
       "  </thead>\n",
       "  <tbody>\n",
       "    <tr>\n",
       "      <th>0</th>\n",
       "      <td>0.25</td>\n",
       "      <td>30.23</td>\n",
       "    </tr>\n",
       "    <tr>\n",
       "      <th>1</th>\n",
       "      <td>0.30</td>\n",
       "      <td>17.00</td>\n",
       "    </tr>\n",
       "    <tr>\n",
       "      <th>2</th>\n",
       "      <td>0.35</td>\n",
       "      <td>9.56</td>\n",
       "    </tr>\n",
       "    <tr>\n",
       "      <th>3</th>\n",
       "      <td>0.40</td>\n",
       "      <td>5.38</td>\n",
       "    </tr>\n",
       "    <tr>\n",
       "      <th>4</th>\n",
       "      <td>0.45</td>\n",
       "      <td>3.02</td>\n",
       "    </tr>\n",
       "    <tr>\n",
       "      <th>5</th>\n",
       "      <td>0.50</td>\n",
       "      <td>1.70</td>\n",
       "    </tr>\n",
       "    <tr>\n",
       "      <th>6</th>\n",
       "      <td>0.55</td>\n",
       "      <td>0.96</td>\n",
       "    </tr>\n",
       "    <tr>\n",
       "      <th>7</th>\n",
       "      <td>0.60</td>\n",
       "      <td>0.54</td>\n",
       "    </tr>\n",
       "    <tr>\n",
       "      <th>8</th>\n",
       "      <td>0.65</td>\n",
       "      <td>0.30</td>\n",
       "    </tr>\n",
       "    <tr>\n",
       "      <th>9</th>\n",
       "      <td>0.70</td>\n",
       "      <td>0.17</td>\n",
       "    </tr>\n",
       "    <tr>\n",
       "      <th>10</th>\n",
       "      <td>0.75</td>\n",
       "      <td>0.10</td>\n",
       "    </tr>\n",
       "  </tbody>\n",
       "</table>\n",
       "</div>"
      ],
      "text/plain": [
       "      Sw  Kro/Krw\n",
       "0   0.25    30.23\n",
       "1   0.30    17.00\n",
       "2   0.35     9.56\n",
       "3   0.40     5.38\n",
       "4   0.45     3.02\n",
       "5   0.50     1.70\n",
       "6   0.55     0.96\n",
       "7   0.60     0.54\n",
       "8   0.65     0.30\n",
       "9   0.70     0.17\n",
       "10  0.75     0.10"
      ]
     },
     "execution_count": 3,
     "metadata": {},
     "output_type": "execute_result"
    }
   ],
   "source": [
    "df = pd.DataFrame({\"Sw\" :Sw , \"Kro/Krw\" :Kro_Krw} )\n",
    "df"
   ]
  },
  {
   "cell_type": "code",
   "execution_count": 4,
   "metadata": {},
   "outputs": [
    {
     "data": {
      "text/plain": [
       "[<matplotlib.lines.Line2D at 0x1ce62920370>]"
      ]
     },
     "execution_count": 4,
     "metadata": {},
     "output_type": "execute_result"
    },
    {
     "data": {
      "image/png": "[encoded data removed]",
      "text/plain": [
       "<Figure size 432x288 with 1 Axes>"
      ]
     },
     "metadata": {
      "needs_background": "light"
     },
     "output_type": "display_data"
    }
   ],
   "source": [
    "plt.semilogy(df[\"Sw\"],df[\"Kro/Krw\"], c = \"b\" )"
   ]
  },
  {
   "cell_type": "code",
   "execution_count": 5,
   "metadata": {},
   "outputs": [],
   "source": [
    "model = np.polyfit(df[\"Sw\"],np.log(df[\"Kro/Krw\"]),1)"
   ]
  },
  {
   "cell_type": "code",
   "execution_count": 6,
   "metadata": {},
   "outputs": [
    {
     "data": {
      "text/plain": [
       "array([-11.47387085,   6.27172511])"
      ]
     },
     "execution_count": 6,
     "metadata": {},
     "output_type": "execute_result"
    }
   ],
   "source": [
    "model"
   ]
  },
  {
   "cell_type": "code",
   "execution_count": 7,
   "metadata": {},
   "outputs": [
    {
     "data": {
      "text/plain": [
       "array([0.46483602, 0.66673627, 0.44124177, 0.37851447, 0.75796183,\n",
       "       0.65619847, 0.80913959, 0.62234318, 0.18052363, 0.28977315,\n",
       "       0.61657889, 0.13512583, 0.27744585, 0.72470823, 0.42691271,\n",
       "       0.83666911, 0.27592573, 0.63017077, 0.80537436, 0.13939298,\n",
       "       0.65541492, 0.40865972, 0.25513759, 0.54338561, 0.56869138,\n",
       "       0.21868493, 0.32470591, 0.34078286, 0.3249575 , 0.66456896,\n",
       "       0.5767083 , 0.7231955 , 0.28525136, 0.35883354, 0.68777684,\n",
       "       0.60972346, 0.14827332, 0.61387217, 0.58110861, 0.53228663,\n",
       "       0.57064981, 0.40894126, 0.75583623, 0.40300507, 0.54150162,\n",
       "       0.49452678, 0.69905406, 0.61909434, 0.45865804, 0.64332315,\n",
       "       0.21097467, 0.65818207, 0.5189379 , 0.46241252, 0.40389962,\n",
       "       0.83246871, 0.78026431, 0.1605278 , 0.84541709, 0.78006615,\n",
       "       0.6876121 , 0.62137872, 0.75109051, 0.51763911, 0.61625201,\n",
       "       0.58576982, 0.51015702, 0.17262258, 0.54445643, 0.22372988,\n",
       "       0.69203218, 0.64674426, 0.639774  , 0.76490366, 0.59743973,\n",
       "       0.15328194, 0.10923379, 0.8176532 , 0.19097454, 0.40470383,\n",
       "       0.67108061, 0.70765875, 0.79105279, 0.82396461, 0.71809479,\n",
       "       0.544227  , 0.65408666, 0.41821384, 0.10975308, 0.84862919,\n",
       "       0.56405529, 0.12501553, 0.53471511, 0.71891858, 0.74934429,\n",
       "       0.54474293, 0.59989284, 0.51131324, 0.24872905, 0.43084699,\n",
       "       0.4892621 , 0.70804527, 0.22292413, 0.51081979, 0.7747008 ,\n",
       "       0.57835197, 0.1823963 , 0.79369145, 0.66718395, 0.42521333,\n",
       "       0.28679089, 0.74227772, 0.34768952, 0.23127604, 0.80746559,\n",
       "       0.40585629, 0.48104501, 0.82591153, 0.81467462, 0.67596549,\n",
       "       0.33193086, 0.42021025, 0.46864124, 0.19716144, 0.22015048,\n",
       "       0.13457866, 0.14541257, 0.43517494, 0.78638033, 0.37823924,\n",
       "       0.54829194, 0.43211268, 0.37755778, 0.47212631, 0.37136458,\n",
       "       0.16806213, 0.47639478, 0.31350462, 0.20840439, 0.32522588,\n",
       "       0.40951854, 0.71297736, 0.67435797, 0.56989746, 0.32323857,\n",
       "       0.79745192, 0.38173046, 0.65962847, 0.73554365, 0.40000092,\n",
       "       0.54987396, 0.38495308, 0.5586426 , 0.79508553, 0.20923991,\n",
       "       0.54115242, 0.78981896, 0.64348568, 0.72327844, 0.53815895,\n",
       "       0.50925469, 0.82334966, 0.58032339, 0.5884767 , 0.54342181,\n",
       "       0.69947415, 0.14055183, 0.8378812 , 0.25538795, 0.70544629,\n",
       "       0.65800562, 0.77406382, 0.76708216, 0.13009246, 0.16588659,\n",
       "       0.52359832, 0.4569252 , 0.45575314, 0.66596411, 0.49163928,\n",
       "       0.64489029, 0.32548083, 0.61832044, 0.38371001, 0.21850129,\n",
       "       0.2663867 , 0.36208538, 0.49380148, 0.43873015, 0.30075375,\n",
       "       0.22187694, 0.68598869, 0.29590272, 0.67689549, 0.71882152,\n",
       "       0.58563856, 0.5439873 , 0.46481624, 0.51008244, 0.76631798])"
      ]
     },
     "execution_count": 7,
     "metadata": {},
     "output_type": "execute_result"
    }
   ],
   "source": [
    "sw = np.random.uniform(0.1,0.85,200)\n",
    "sw"
   ]
  },
  {
   "cell_type": "code",
   "execution_count": 8,
   "metadata": {},
   "outputs": [],
   "source": [
    "af = pd.DataFrame({\"sw\" : sw})"
   ]
  },
  {
   "cell_type": "code",
   "execution_count": 9,
   "metadata": {},
   "outputs": [
    {
     "data": {
      "text/plain": [
       "[<matplotlib.lines.Line2D at 0x1ce62aee430>]"
      ]
     },
     "execution_count": 9,
     "metadata": {},
     "output_type": "execute_result"
    },
    {
     "data": {
      "image/png": "[encoded data removed]",
      "text/plain": [
       "<Figure size 432x288 with 1 Axes>"
      ]
     },
     "metadata": {
      "needs_background": "light"
     },
     "output_type": "display_data"
    }
   ],
   "source": [
    "af[\"kro/krw\"] = np.exp(model[1] + model[0] * af[\"sw\"])\n",
    "plt.semilogy(af[\"sw\"],af[\"kro/krw\"], c = \"r\")"
   ]
  },
  {
   "cell_type": "code",
   "execution_count": 10,
   "metadata": {},
   "outputs": [],
   "source": [
    "bf = af.sort_values(by = 'sw')"
   ]
  },
  {
   "cell_type": "code",
   "execution_count": 12,
   "metadata": {},
   "outputs": [],
   "source": [
    "def nd(oil_viscosity,water_viscosity):\n",
    "    bf[\"fw\"] = 1 /(1 + water_viscosity*bf[\"kro/krw\"]/oil_viscosity)\n",
    "    plt.figure(figsize = (14,8))\n",
    "\n",
    "    plt.plot(bf[\"sw\"],bf[\"fw\"] , c = \"b\", label= \" Sw v/s Fw\")\n",
    "    plt.title(\"Effect of fluid viscosities on Watercut(fw)\")\n",
    "    plt.xlabel(\"Water Saturation(Sw)\")\n",
    "    plt.ylabel(\"Water Cut fw\")\n",
    "    plt.xlim(0,1)\n",
    "    plt.ylim(0,1)\n",
    "    plt.style.use('fivethirtyeight')\n",
    "    \n",
    "\n",
    "    plt.grid(True, color = 'g')"
   ]
  },
  {
   "cell_type": "code",
   "execution_count": 13,
   "metadata": {},
   "outputs": [],
   "source": [
    "from ipywidgets import interact,interactive"
   ]
  },
  {
   "cell_type": "code",
   "execution_count": 14,
   "metadata": {},
   "outputs": [
    {
     "data": {
      "application/vnd.jupyter.widget-view+json": {
       "model_id": "c2bb13c360ca4de79a68bfc5185c73f7",
       "version_major": 2,
       "version_minor": 0
      },
      "text/plain": [
       "interactive(children=(FloatSlider(value=2.7, description='oil_viscosity', max=5.0, min=0.5, step=0.2), FloatSl…"
      ]
     },
     "metadata": {},
     "output_type": "display_data"
    }
   ],
   "source": [
    "interactive(nd , oil_viscosity =(0.5,5,0.2),water_viscosity = (0.5,5,0.2))"
   ]
  },
  {
   "cell_type": "code",
   "execution_count": null,
   "metadata": {},
   "outputs": [],
   "source": []
  }
 ],
 "metadata": {
  "kernelspec": {
   "display_name": "Python 3",
   "language": "python",
   "name": "python3"
  },
  "language_info": {
   "codemirror_mode": {
    "name": "ipython",
    "version": 3
   },
   "file_extension": ".py",
   "mimetype": "text/x-python",
   "name": "python",
   "nbconvert_exporter": "python",
   "pygments_lexer": "ipython3",
   "version": "3.8.3"
  }
 },
 "nbformat": 4,
 "nbformat_minor": 4
}
